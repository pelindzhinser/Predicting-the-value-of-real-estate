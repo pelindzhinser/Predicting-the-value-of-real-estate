version https://git-lfs.github.com/spec/v1
oid sha256:b663a31edf4a34ac407d1013f98ef564d06868ea85a9b2868e5f29819432ec3c
size 80595501
